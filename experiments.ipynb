{
 "cells": [
  {
   "cell_type": "markdown",
   "id": "4d6c2e45",
   "metadata": {},
   "source": [
    "# Wine Recommendation System"
   ]
  },
  {
   "cell_type": "markdown",
   "id": "fdba8eeb",
   "metadata": {},
   "source": [
    "## Load Datasets"
   ]
  },
  {
   "cell_type": "markdown",
   "id": "b40c651c",
   "metadata": {},
   "source": [
    "First, load datasets for red and white wine and then concatenate, the system will work with both types. Then visualize first 10 elements"
   ]
  },
  {
   "cell_type": "code",
   "execution_count": 146,
   "id": "b3b3693c",
   "metadata": {},
   "outputs": [],
   "source": [
    "# Reproducibility\n",
    "\n",
    "import random, numpy as np\n",
    "\n",
    "SEED = 42\n",
    "random.seed(SEED); np.random.seed(SEED)"
   ]
  },
  {
   "cell_type": "code",
   "execution_count": 147,
   "id": "da1a1d87",
   "metadata": {},
   "outputs": [
    {
     "name": "stdout",
     "output_type": "stream",
     "text": [
      "   fixed acidity  volatile acidity  citric acid  residual sugar  chlorides  \\\n",
      "0            7.4              0.70         0.00             1.9      0.076   \n",
      "1            7.8              0.88         0.00             2.6      0.098   \n",
      "2            7.8              0.76         0.04             2.3      0.092   \n",
      "3           11.2              0.28         0.56             1.9      0.075   \n",
      "4            7.4              0.70         0.00             1.9      0.076   \n",
      "5            7.4              0.66         0.00             1.8      0.075   \n",
      "6            7.9              0.60         0.06             1.6      0.069   \n",
      "7            7.3              0.65         0.00             1.2      0.065   \n",
      "8            7.8              0.58         0.02             2.0      0.073   \n",
      "9            7.5              0.50         0.36             6.1      0.071   \n",
      "\n",
      "   free sulfur dioxide  total sulfur dioxide  density    pH  sulphates  \\\n",
      "0                 11.0                  34.0   0.9978  3.51       0.56   \n",
      "1                 25.0                  67.0   0.9968  3.20       0.68   \n",
      "2                 15.0                  54.0   0.9970  3.26       0.65   \n",
      "3                 17.0                  60.0   0.9980  3.16       0.58   \n",
      "4                 11.0                  34.0   0.9978  3.51       0.56   \n",
      "5                 13.0                  40.0   0.9978  3.51       0.56   \n",
      "6                 15.0                  59.0   0.9964  3.30       0.46   \n",
      "7                 15.0                  21.0   0.9946  3.39       0.47   \n",
      "8                  9.0                  18.0   0.9968  3.36       0.57   \n",
      "9                 17.0                 102.0   0.9978  3.35       0.80   \n",
      "\n",
      "   alcohol  quality wine_type  \n",
      "0      9.4        5       red  \n",
      "1      9.8        5       red  \n",
      "2      9.8        5       red  \n",
      "3      9.8        6       red  \n",
      "4      9.4        5       red  \n",
      "5      9.4        5       red  \n",
      "6      9.4        5       red  \n",
      "7     10.0        7       red  \n",
      "8      9.5        7       red  \n",
      "9     10.5        5       red  \n"
     ]
    },
    {
     "data": {
      "application/vnd.microsoft.datawrangler.viewer.v0+json": {
       "columns": [
        {
         "name": "index",
         "rawType": "int64",
         "type": "integer"
        },
        {
         "name": "fixed acidity",
         "rawType": "float64",
         "type": "float"
        },
        {
         "name": "volatile acidity",
         "rawType": "float64",
         "type": "float"
        },
        {
         "name": "citric acid",
         "rawType": "float64",
         "type": "float"
        },
        {
         "name": "residual sugar",
         "rawType": "float64",
         "type": "float"
        },
        {
         "name": "chlorides",
         "rawType": "float64",
         "type": "float"
        },
        {
         "name": "free sulfur dioxide",
         "rawType": "float64",
         "type": "float"
        },
        {
         "name": "total sulfur dioxide",
         "rawType": "float64",
         "type": "float"
        },
        {
         "name": "density",
         "rawType": "float64",
         "type": "float"
        },
        {
         "name": "pH",
         "rawType": "float64",
         "type": "float"
        },
        {
         "name": "sulphates",
         "rawType": "float64",
         "type": "float"
        },
        {
         "name": "alcohol",
         "rawType": "float64",
         "type": "float"
        },
        {
         "name": "quality",
         "rawType": "int64",
         "type": "integer"
        },
        {
         "name": "wine_type",
         "rawType": "object",
         "type": "string"
        }
       ],
       "ref": "6bf443e2-8c1e-41a0-918a-086b2d199bcc",
       "rows": [
        [
         "0",
         "7.4",
         "0.7",
         "0.0",
         "1.9",
         "0.076",
         "11.0",
         "34.0",
         "0.9978",
         "3.51",
         "0.56",
         "9.4",
         "5",
         "red"
        ],
        [
         "1",
         "7.8",
         "0.88",
         "0.0",
         "2.6",
         "0.098",
         "25.0",
         "67.0",
         "0.9968",
         "3.2",
         "0.68",
         "9.8",
         "5",
         "red"
        ],
        [
         "2",
         "7.8",
         "0.76",
         "0.04",
         "2.3",
         "0.092",
         "15.0",
         "54.0",
         "0.997",
         "3.26",
         "0.65",
         "9.8",
         "5",
         "red"
        ],
        [
         "3",
         "11.2",
         "0.28",
         "0.56",
         "1.9",
         "0.075",
         "17.0",
         "60.0",
         "0.998",
         "3.16",
         "0.58",
         "9.8",
         "6",
         "red"
        ],
        [
         "4",
         "7.4",
         "0.7",
         "0.0",
         "1.9",
         "0.076",
         "11.0",
         "34.0",
         "0.9978",
         "3.51",
         "0.56",
         "9.4",
         "5",
         "red"
        ],
        [
         "5",
         "7.4",
         "0.66",
         "0.0",
         "1.8",
         "0.075",
         "13.0",
         "40.0",
         "0.9978",
         "3.51",
         "0.56",
         "9.4",
         "5",
         "red"
        ],
        [
         "6",
         "7.9",
         "0.6",
         "0.06",
         "1.6",
         "0.069",
         "15.0",
         "59.0",
         "0.9964",
         "3.3",
         "0.46",
         "9.4",
         "5",
         "red"
        ],
        [
         "7",
         "7.3",
         "0.65",
         "0.0",
         "1.2",
         "0.065",
         "15.0",
         "21.0",
         "0.9946",
         "3.39",
         "0.47",
         "10.0",
         "7",
         "red"
        ],
        [
         "8",
         "7.8",
         "0.58",
         "0.02",
         "2.0",
         "0.073",
         "9.0",
         "18.0",
         "0.9968",
         "3.36",
         "0.57",
         "9.5",
         "7",
         "red"
        ],
        [
         "9",
         "7.5",
         "0.5",
         "0.36",
         "6.1",
         "0.071",
         "17.0",
         "102.0",
         "0.9978",
         "3.35",
         "0.8",
         "10.5",
         "5",
         "red"
        ]
       ],
       "shape": {
        "columns": 13,
        "rows": 10
       }
      },
      "text/html": [
       "<div>\n",
       "<style scoped>\n",
       "    .dataframe tbody tr th:only-of-type {\n",
       "        vertical-align: middle;\n",
       "    }\n",
       "\n",
       "    .dataframe tbody tr th {\n",
       "        vertical-align: top;\n",
       "    }\n",
       "\n",
       "    .dataframe thead th {\n",
       "        text-align: right;\n",
       "    }\n",
       "</style>\n",
       "<table border=\"1\" class=\"dataframe\">\n",
       "  <thead>\n",
       "    <tr style=\"text-align: right;\">\n",
       "      <th></th>\n",
       "      <th>fixed acidity</th>\n",
       "      <th>volatile acidity</th>\n",
       "      <th>citric acid</th>\n",
       "      <th>residual sugar</th>\n",
       "      <th>chlorides</th>\n",
       "      <th>free sulfur dioxide</th>\n",
       "      <th>total sulfur dioxide</th>\n",
       "      <th>density</th>\n",
       "      <th>pH</th>\n",
       "      <th>sulphates</th>\n",
       "      <th>alcohol</th>\n",
       "      <th>quality</th>\n",
       "      <th>wine_type</th>\n",
       "    </tr>\n",
       "  </thead>\n",
       "  <tbody>\n",
       "    <tr>\n",
       "      <th>0</th>\n",
       "      <td>7.4</td>\n",
       "      <td>0.70</td>\n",
       "      <td>0.00</td>\n",
       "      <td>1.9</td>\n",
       "      <td>0.076</td>\n",
       "      <td>11.0</td>\n",
       "      <td>34.0</td>\n",
       "      <td>0.9978</td>\n",
       "      <td>3.51</td>\n",
       "      <td>0.56</td>\n",
       "      <td>9.4</td>\n",
       "      <td>5</td>\n",
       "      <td>red</td>\n",
       "    </tr>\n",
       "    <tr>\n",
       "      <th>1</th>\n",
       "      <td>7.8</td>\n",
       "      <td>0.88</td>\n",
       "      <td>0.00</td>\n",
       "      <td>2.6</td>\n",
       "      <td>0.098</td>\n",
       "      <td>25.0</td>\n",
       "      <td>67.0</td>\n",
       "      <td>0.9968</td>\n",
       "      <td>3.20</td>\n",
       "      <td>0.68</td>\n",
       "      <td>9.8</td>\n",
       "      <td>5</td>\n",
       "      <td>red</td>\n",
       "    </tr>\n",
       "    <tr>\n",
       "      <th>2</th>\n",
       "      <td>7.8</td>\n",
       "      <td>0.76</td>\n",
       "      <td>0.04</td>\n",
       "      <td>2.3</td>\n",
       "      <td>0.092</td>\n",
       "      <td>15.0</td>\n",
       "      <td>54.0</td>\n",
       "      <td>0.9970</td>\n",
       "      <td>3.26</td>\n",
       "      <td>0.65</td>\n",
       "      <td>9.8</td>\n",
       "      <td>5</td>\n",
       "      <td>red</td>\n",
       "    </tr>\n",
       "    <tr>\n",
       "      <th>3</th>\n",
       "      <td>11.2</td>\n",
       "      <td>0.28</td>\n",
       "      <td>0.56</td>\n",
       "      <td>1.9</td>\n",
       "      <td>0.075</td>\n",
       "      <td>17.0</td>\n",
       "      <td>60.0</td>\n",
       "      <td>0.9980</td>\n",
       "      <td>3.16</td>\n",
       "      <td>0.58</td>\n",
       "      <td>9.8</td>\n",
       "      <td>6</td>\n",
       "      <td>red</td>\n",
       "    </tr>\n",
       "    <tr>\n",
       "      <th>4</th>\n",
       "      <td>7.4</td>\n",
       "      <td>0.70</td>\n",
       "      <td>0.00</td>\n",
       "      <td>1.9</td>\n",
       "      <td>0.076</td>\n",
       "      <td>11.0</td>\n",
       "      <td>34.0</td>\n",
       "      <td>0.9978</td>\n",
       "      <td>3.51</td>\n",
       "      <td>0.56</td>\n",
       "      <td>9.4</td>\n",
       "      <td>5</td>\n",
       "      <td>red</td>\n",
       "    </tr>\n",
       "    <tr>\n",
       "      <th>5</th>\n",
       "      <td>7.4</td>\n",
       "      <td>0.66</td>\n",
       "      <td>0.00</td>\n",
       "      <td>1.8</td>\n",
       "      <td>0.075</td>\n",
       "      <td>13.0</td>\n",
       "      <td>40.0</td>\n",
       "      <td>0.9978</td>\n",
       "      <td>3.51</td>\n",
       "      <td>0.56</td>\n",
       "      <td>9.4</td>\n",
       "      <td>5</td>\n",
       "      <td>red</td>\n",
       "    </tr>\n",
       "    <tr>\n",
       "      <th>6</th>\n",
       "      <td>7.9</td>\n",
       "      <td>0.60</td>\n",
       "      <td>0.06</td>\n",
       "      <td>1.6</td>\n",
       "      <td>0.069</td>\n",
       "      <td>15.0</td>\n",
       "      <td>59.0</td>\n",
       "      <td>0.9964</td>\n",
       "      <td>3.30</td>\n",
       "      <td>0.46</td>\n",
       "      <td>9.4</td>\n",
       "      <td>5</td>\n",
       "      <td>red</td>\n",
       "    </tr>\n",
       "    <tr>\n",
       "      <th>7</th>\n",
       "      <td>7.3</td>\n",
       "      <td>0.65</td>\n",
       "      <td>0.00</td>\n",
       "      <td>1.2</td>\n",
       "      <td>0.065</td>\n",
       "      <td>15.0</td>\n",
       "      <td>21.0</td>\n",
       "      <td>0.9946</td>\n",
       "      <td>3.39</td>\n",
       "      <td>0.47</td>\n",
       "      <td>10.0</td>\n",
       "      <td>7</td>\n",
       "      <td>red</td>\n",
       "    </tr>\n",
       "    <tr>\n",
       "      <th>8</th>\n",
       "      <td>7.8</td>\n",
       "      <td>0.58</td>\n",
       "      <td>0.02</td>\n",
       "      <td>2.0</td>\n",
       "      <td>0.073</td>\n",
       "      <td>9.0</td>\n",
       "      <td>18.0</td>\n",
       "      <td>0.9968</td>\n",
       "      <td>3.36</td>\n",
       "      <td>0.57</td>\n",
       "      <td>9.5</td>\n",
       "      <td>7</td>\n",
       "      <td>red</td>\n",
       "    </tr>\n",
       "    <tr>\n",
       "      <th>9</th>\n",
       "      <td>7.5</td>\n",
       "      <td>0.50</td>\n",
       "      <td>0.36</td>\n",
       "      <td>6.1</td>\n",
       "      <td>0.071</td>\n",
       "      <td>17.0</td>\n",
       "      <td>102.0</td>\n",
       "      <td>0.9978</td>\n",
       "      <td>3.35</td>\n",
       "      <td>0.80</td>\n",
       "      <td>10.5</td>\n",
       "      <td>5</td>\n",
       "      <td>red</td>\n",
       "    </tr>\n",
       "  </tbody>\n",
       "</table>\n",
       "</div>"
      ],
      "text/plain": [
       "   fixed acidity  volatile acidity  citric acid  residual sugar  chlorides  \\\n",
       "0            7.4              0.70         0.00             1.9      0.076   \n",
       "1            7.8              0.88         0.00             2.6      0.098   \n",
       "2            7.8              0.76         0.04             2.3      0.092   \n",
       "3           11.2              0.28         0.56             1.9      0.075   \n",
       "4            7.4              0.70         0.00             1.9      0.076   \n",
       "5            7.4              0.66         0.00             1.8      0.075   \n",
       "6            7.9              0.60         0.06             1.6      0.069   \n",
       "7            7.3              0.65         0.00             1.2      0.065   \n",
       "8            7.8              0.58         0.02             2.0      0.073   \n",
       "9            7.5              0.50         0.36             6.1      0.071   \n",
       "\n",
       "   free sulfur dioxide  total sulfur dioxide  density    pH  sulphates  \\\n",
       "0                 11.0                  34.0   0.9978  3.51       0.56   \n",
       "1                 25.0                  67.0   0.9968  3.20       0.68   \n",
       "2                 15.0                  54.0   0.9970  3.26       0.65   \n",
       "3                 17.0                  60.0   0.9980  3.16       0.58   \n",
       "4                 11.0                  34.0   0.9978  3.51       0.56   \n",
       "5                 13.0                  40.0   0.9978  3.51       0.56   \n",
       "6                 15.0                  59.0   0.9964  3.30       0.46   \n",
       "7                 15.0                  21.0   0.9946  3.39       0.47   \n",
       "8                  9.0                  18.0   0.9968  3.36       0.57   \n",
       "9                 17.0                 102.0   0.9978  3.35       0.80   \n",
       "\n",
       "   alcohol  quality wine_type  \n",
       "0      9.4        5       red  \n",
       "1      9.8        5       red  \n",
       "2      9.8        5       red  \n",
       "3      9.8        6       red  \n",
       "4      9.4        5       red  \n",
       "5      9.4        5       red  \n",
       "6      9.4        5       red  \n",
       "7     10.0        7       red  \n",
       "8      9.5        7       red  \n",
       "9     10.5        5       red  "
      ]
     },
     "metadata": {},
     "output_type": "display_data"
    }
   ],
   "source": [
    "import pandas as pd\n",
    "\n",
    "red_wine = pd.read_csv(\"winequality-red.csv\", sep=\",\")\n",
    "white_wine = pd.read_csv(\"winequality-white.csv\", sep=\";\")\n",
    "\n",
    "red_wine[\"wine_type\"] = \"red\"\n",
    "white_wine[\"wine_type\"] = \"white\"\n",
    "\n",
    "wine_df = pd.concat([red_wine, white_wine], ignore_index=True)\n",
    "\n",
    "print(wine_df.head(10))\n",
    "display(wine_df.head(10))"
   ]
  },
  {
   "cell_type": "markdown",
   "id": "16ab1237",
   "metadata": {},
   "source": [
    "## Step 1 - Data Sanity Check and Contract"
   ]
  },
  {
   "cell_type": "markdown",
   "id": "7683d8b3",
   "metadata": {},
   "source": [
    "The purpose of this step is to define solid foundations to start working with the dataset, doing sanity checks to avoid bugs later on or fixes that could result in messy code. \n",
    "What I implement here:\n",
    "- unique `wine_id`, check columns and dtype coherence\n",
    "- NAN/duplicates, min/max range for features, `wine_type` and `quality` distriution\n",
    "- Assert and INFO prints, to handle errors or bugs  "
   ]
  },
  {
   "cell_type": "code",
   "execution_count": 148,
   "id": "3b491d6b",
   "metadata": {},
   "outputs": [
    {
     "name": "stdout",
     "output_type": "stream",
     "text": [
      "[INFO] wine_id created, total rows = 6497\n"
     ]
    }
   ],
   "source": [
    "import pandas as pd\n",
    "import numpy as np\n",
    "import matplotlib.pyplot as plt\n",
    "\n",
    "# 1 - Add ID\n",
    "if \"wine_id\" not in wine_df.columns:\n",
    "    wine_df = wine_df.copy()\n",
    "    wine_df.insert(0, \"wine_id\", np.arange(1, len(wine_df) + 1))\n",
    "print(f\"[INFO] wine_id created, total rows = {len(wine_df)}\")\n"
   ]
  },
  {
   "cell_type": "code",
   "execution_count": 149,
   "id": "e3207605",
   "metadata": {},
   "outputs": [
    {
     "name": "stdout",
     "output_type": "stream",
     "text": [
      "[INFO] Defined dataset contract with expected columns, ranges and non negatives\n"
     ]
    }
   ],
   "source": [
    "# 2 - Define contract\n",
    "expected_columns = [\n",
    "    \"wine_id\", \"fixed acidity\", \"volatile acidity\", \"citric acid\", \"residual sugar\",\n",
    "    \"chlorides\", \"free sulfur dioxide\", \"total sulfur dioxide\", \"density\", \"pH\",\n",
    "    \"sulphates\", \"alcohol\", \"quality\", \"wine_type\"\n",
    "]\n",
    "\n",
    "required_numeric = [\n",
    "    \"fixed acidity\", \"volatile acidity\", \"citric acid\", \"residual sugar\",\n",
    "    \"chlorides\", \"free sulfur dioxide\", \"total sulfur dioxide\", \"density\",\n",
    "    \"pH\", \"sulphates\", \"alcohol\", \"quality\"\n",
    "]\n",
    "required_categorical = [\"wine_type\"]\n",
    "\n",
    "# Soft and hard ranges\n",
    "soft_ranges = {\n",
    "    \"pH\": (0, 14),\n",
    "    \"density\": (0.985, 1.08),             \n",
    "    \"alcohol\": (0, 20),                   \n",
    "    \"quality\": (0, 10)                    \n",
    "}\n",
    "non_negative = [\n",
    "    \"fixed acidity\", \"volatile acidity\", \"citric acid\", \"residual sugar\",\n",
    "    \"chlorides\", \"free sulfur dioxide\", \"total sulfur dioxide\",\n",
    "    \"sulphates\", \"alcohol\"\n",
    "]\n",
    "print(\"[INFO] Defined dataset contract with expected columns, ranges and non negatives\")"
   ]
  },
  {
   "cell_type": "code",
   "execution_count": 150,
   "id": "edd2feaf",
   "metadata": {},
   "outputs": [],
   "source": [
    "# 3 - Check columns\n",
    "cols = list(wine_df.columns)\n",
    "missing = [c for c in expected_columns if c not in cols]\n",
    "extra = [c for c in cols if c not in expected_columns]\n",
    "\n",
    "if missing:\n",
    "    print(f\"[WARNING] Missing columns: {missing}\")\n",
    "if extra:\n",
    "    print(f\"[WARNING] Extra columns: {extra}\")\n",
    "\n",
    "# Order columns according to contract - in case of extra\n",
    "wine_df = wine_df[[c for c in expected_columns if c in wine_df.columns] + extra]"
   ]
  },
  {
   "cell_type": "code",
   "execution_count": 151,
   "id": "9eb59bf5",
   "metadata": {},
   "outputs": [
    {
     "name": "stdout",
     "output_type": "stream",
     "text": [
      "[INFO] Dtypes current: \n",
      "wine_id                   int64\n",
      "fixed acidity           float64\n",
      "volatile acidity        float64\n",
      "citric acid             float64\n",
      "residual sugar          float64\n",
      "chlorides               float64\n",
      "free sulfur dioxide     float64\n",
      "total sulfur dioxide    float64\n",
      "density                 float64\n",
      "pH                      float64\n",
      "sulphates               float64\n",
      "alcohol                 float64\n",
      "quality                   int64\n",
      "wine_type                object\n",
      "dtype: object\n"
     ]
    }
   ],
   "source": [
    "# 4 - Check types\n",
    "print(f\"[INFO] Dtypes current: \\n{wine_df.dtypes}\")\n",
    "\n",
    "num_mismatch = [c for c in required_numeric if c in wine_df.columns and not pd.api.types.is_numeric_dtype(wine_df[c])]\n",
    "cat_mismatch = [c for c in required_categorical if c in wine_df.columns and not pd.api.types.is_object_dtype(wine_df[c])]\n",
    "\n",
    "if num_mismatch:\n",
    "    print(f\"\\n[WARNING] These columns should be numerical: {num_mismatch}\")\n",
    "if cat_mismatch:\n",
    "    print(f\"\\n[WARNING] These columns should be categorical: {cat_mismatch}\")"
   ]
  },
  {
   "cell_type": "code",
   "execution_count": 152,
   "id": "62b7bbd4",
   "metadata": {},
   "outputs": [
    {
     "name": "stdout",
     "output_type": "stream",
     "text": [
      "[INFO] NAN per column: No NAN values found\n",
      "[INFO] Total NANS: 0\n",
      "[INFO] Duplicates (identical rows for all columns): 0\n",
      "[INFO] Duplicates (same chem features and wine_type): 1177\n"
     ]
    }
   ],
   "source": [
    "# 5 - Check NAN and duplicates\n",
    "nan_counts = wine_df.isna().sum()\n",
    "total_nans = int(nan_counts.sum())\n",
    "print(f\"[INFO] NAN per column: {nan_counts[nan_counts>0] if total_nans>0 else \"No NAN values found\"}\")\n",
    "print(f\"[INFO] Total NANS: {total_nans}\")\n",
    "\n",
    "dup_full = wine_df.duplicated().sum()\n",
    "\n",
    "# I look for duplicates in chemical features and type, ignore quality\n",
    "chem_cols = [c for c in required_numeric if c!=\"quality\"] + [\"wine_type\"]\n",
    "dup_chem = wine_df.duplicated(subset=[c for c in chem_cols if c in wine_df.columns]).sum()\n",
    "print(f\"[INFO] Duplicates (identical rows for all columns): {dup_full}\")\n",
    "print(f\"[INFO] Duplicates (same chem features and wine_type): {dup_chem}\")"
   ]
  },
  {
   "cell_type": "code",
   "execution_count": 153,
   "id": "f88f3ada",
   "metadata": {},
   "outputs": [
    {
     "name": "stdout",
     "output_type": "stream",
     "text": [
      "[INFO] Distribution for wine_type:\n",
      "wine_type\n",
      "white    4898\n",
      "red      1599\n",
      "Name: count, dtype: int64\n",
      "\n",
      "[INFO] Global quality statistics:\n",
      "count    6497.000000\n",
      "mean        5.818378\n",
      "std         0.873255\n",
      "min         3.000000\n",
      "25%         5.000000\n",
      "50%         6.000000\n",
      "75%         6.000000\n",
      "max         9.000000\n",
      "Name: quality, dtype: float64\n",
      "\n",
      "[INFO] Quality statistics for wine_type:\n",
      "            count      mean       std  min  25%  50%  75%  max\n",
      "wine_type                                                     \n",
      "red        1599.0  5.636023  0.807569  3.0  5.0  6.0  6.0  8.0\n",
      "white      4898.0  5.877909  0.885639  3.0  5.0  6.0  6.0  9.0\n"
     ]
    }
   ],
   "source": [
    "# 6 - Rapid statistics and shape per type\n",
    "print(\"[INFO] Distribution for wine_type:\")\n",
    "if \"wine_type\" in wine_df.columns:\n",
    "    print(wine_df[\"wine_type\"].value_counts(dropna=False))\n",
    "\n",
    "if \"quality\" in wine_df.columns:\n",
    "    print(\"\\n[INFO] Global quality statistics:\")\n",
    "    print(wine_df[\"quality\"].describe())\n",
    "\n",
    "    if \"wine_type\" in wine_df.columns:\n",
    "        print(\"\\n[INFO] Quality statistics for wine_type:\")\n",
    "        print(wine_df.groupby(\"wine_type\")[\"quality\"].describe())"
   ]
  },
  {
   "cell_type": "code",
   "execution_count": 154,
   "id": "1b176eb6",
   "metadata": {},
   "outputs": [
    {
     "name": "stdout",
     "output_type": "stream",
     "text": [
      "\n",
      "[INFO] Hard checks gave no issues.\n"
     ]
    }
   ],
   "source": [
    "# 7 - Hard checks - this is important to avoid bugs or having strange data\n",
    "\n",
    "assert wine_df[\"wine_id\"].is_unique, \"[ASSERT FAIL] wine_id not unique.\"\n",
    "if \"quality\" in wine_df.columns:\n",
    "    assert wine_df[\"quality\"].between(0, 10, inclusive=\"both\").all(), \"[ASSERT FAIL] Values 'quality' out of range [0..10].\"\n",
    "if \"pH\" in wine_df.columns:\n",
    "    assert (wine_df[\"pH\"] >= 0).all(), \"[ASSERT FAIL] found negative pH.\"\n",
    "if \"alcohol\" in wine_df.columns:\n",
    "    assert (wine_df[\"alcohol\"] >= 0).all(), \"[ASSERT FAIL] negative alcohol found.\"\n",
    "\n",
    "print(\"\\n[INFO] Hard checks gave no issues.\")"
   ]
  },
  {
   "cell_type": "code",
   "execution_count": 155,
   "id": "27a0eace",
   "metadata": {},
   "outputs": [],
   "source": [
    "# 8 - Soft checks, warning if something is a little off, but not too serious to cause problems later on\n",
    "\n",
    "# out of range\n",
    "for col, (lo, hi) in soft_ranges.items():\n",
    "    if col in wine_df.columns:\n",
    "        out_mask = ~wine_df[col].between(lo, hi, inclusive=\"both\")\n",
    "        n_out = int(out_mask.sum())\n",
    "        if n_out>0:\n",
    "            print(f\"[WARNING] {col}: {n_out} values out of range [{lo}..{hi}]:\")\n",
    "            print(wine_df.loc[out_mask, [\"wine_id\", col]].head(5))\n",
    "\n",
    "# non-negative\n",
    "for col in non_negative:\n",
    "    if col in wine_df.columns:\n",
    "        neg_n = int((wine_df[col]<0).sum())\n",
    "        if neg_n>0:\n",
    "            print(f\"[WARNING] {col}: {neg_n} values found negative:\")\n",
    "            print(wine_df.loc[wine_df[col]<0, [\"wine_id\", col]].head(5))"
   ]
  },
  {
   "cell_type": "code",
   "execution_count": 156,
   "id": "e90cedc7",
   "metadata": {},
   "outputs": [
    {
     "data": {
      "image/png": "[encoded data removed]",
      "text/plain": [
       "<Figure size 1200x400 with 3 Axes>"
      ]
     },
     "metadata": {},
     "output_type": "display_data"
    },
    {
     "data": {
      "image/png": "[encoded data removed]",
      "text/plain": [
       "<Figure size 640x480 with 2 Axes>"
      ]
     },
     "metadata": {},
     "output_type": "display_data"
    }
   ],
   "source": [
    "# 9 - Plots\n",
    "\n",
    "plt.figure(figsize=(12, 4))\n",
    "plt.subplot(1, 3, 1)\n",
    "if \"quality\" in wine_df.columns:\n",
    "    wine_df[\"quality\"].hist(bins=range(int(wine_df[\"quality\"].min()), int(wine_df[\"quality\"].max()) + 2), edgecolor=\"black\")\n",
    "    plt.title(\"Quality distribution (global)\")\n",
    "    plt.xlabel(\"quality\")\n",
    "    plt.ylabel(\"count\")\n",
    "\n",
    "plt.subplot(1, 3, 2)\n",
    "if \"wine_type\" in wine_df.columns and \"quality\" in wine_df.columns:\n",
    "    wine_df.groupby(\"wine_type\")[\"quality\"].mean().plot(kind=\"bar\")\n",
    "    plt.title(\"Mean quality for wine_type\")\n",
    "    plt.xlabel(\"wine_type\")\n",
    "    plt.ylabel(\"mean quality\")\n",
    "\n",
    "plt.subplot(1, 3, 3)\n",
    "if set([\"residual sugar\", \"alcohol\", \"wine_type\"]).issubset(wine_df.columns):\n",
    "    tmp = wine_df.rename(columns={\"residual sugar\": \"residual_sugar\"})\n",
    "    tmp.boxplot(column=[\"residual_sugar\", \"alcohol\"], by=\"wine_type\")\n",
    "    plt.suptitle(\"\")\n",
    "    plt.title(\"Boxplot: residual_sugar & alcohol for wine_type\")\n",
    "    plt.xlabel(\"wine_type\")\n",
    "    plt.ylabel(\"value\")\n",
    "\n",
    "plt.tight_layout()\n",
    "plt.show()"
   ]
  },
  {
   "cell_type": "code",
   "execution_count": 157,
   "id": "85cd53eb",
   "metadata": {},
   "outputs": [
    {
     "name": "stdout",
     "output_type": "stream",
     "text": [
      "[INFO] If no ASSERT FAIL or WARNING were printed in the previous steps, you're good to go!\n",
      "Otherwise, clean the data according to the contract, to avoid insidious bugs later on! \n"
     ]
    }
   ],
   "source": [
    "print(\"[INFO] If no ASSERT FAIL or WARNING were printed in the previous steps, you're good to go!\")\n",
    "print(\"Otherwise, clean the data according to the contract, to avoid insidious bugs later on! \")\n"
   ]
  },
  {
   "cell_type": "markdown",
   "id": "c5d0faa5",
   "metadata": {},
   "source": [
    "# Step 2 - Preprocessing Pipeline"
   ]
  },
  {
   "cell_type": "markdown",
   "id": "570c5a02",
   "metadata": {},
   "source": [
    "The purpose of this step is to create a robust Preprocessing Pipeline. For experiment purpose, I try 2 different approaches:\n",
    "- baseline: StandardScaler for numeric + OneHot for wine_type\n",
    "- robust: Winsorize for quantile clipping + RobustScaler for numeric + OneHot\n",
    "- whitened: StandardScaler + PCA(whiten=True) for numeric + OneHot"
   ]
  },
  {
   "cell_type": "code",
   "execution_count": 158,
   "id": "2e2a9ab9",
   "metadata": {},
   "outputs": [],
   "source": [
    "import os\n",
    "import numpy as np\n",
    "import pandas as pd\n",
    "import joblib\n",
    "import matplotlib.pyplot as plt\n",
    "\n",
    "from sklearn.base import BaseEstimator, TransformerMixin\n",
    "from sklearn.preprocessing import StandardScaler, RobustScaler, OneHotEncoder\n",
    "from sklearn.decomposition import PCA\n",
    "from sklearn.compose import ColumnTransformer\n",
    "from sklearn.pipeline import Pipeline"
   ]
  },
  {
   "cell_type": "code",
   "execution_count": 159,
   "id": "ff545ead",
   "metadata": {},
   "outputs": [],
   "source": [
    "# Ensure wine_df is correctly loaded\n",
    "\n",
    "assert \"wine_id\" in wine_df.columns and \"wine_type\" in wine_df.columns, \"[ASSERT FAIL] Needed wine_df with columns wine_id and wine_type.\""
   ]
  },
  {
   "cell_type": "code",
   "execution_count": 160,
   "id": "48aaeb36",
   "metadata": {},
   "outputs": [],
   "source": [
    "# 1 - Define the columns\n",
    "\n",
    "num_cols = [\n",
    "    \"fixed acidity\",\"volatile acidity\",\"citric acid\",\"residual sugar\",\"chlorides\",\n",
    "    \"free sulfur dioxide\",\"total sulfur dioxide\",\"density\",\"pH\",\"sulphates\",\"alcohol\"\n",
    "]\n",
    "cat_cols = [\"wine_type\"]"
   ]
  },
  {
   "cell_type": "code",
   "execution_count": 161,
   "id": "5a7f4783",
   "metadata": {},
   "outputs": [],
   "source": [
    "# 2 - Transformer: Winsorizer to handle tails\n",
    "\n",
    "class Winsorizer(BaseEstimator, TransformerMixin):\n",
    "    def __init__(self, lower=0.01, upper=0.99):\n",
    "        self.lower = lower\n",
    "        self.upper = upper\n",
    "        self.lo_ = None\n",
    "        self.hi_ = None\n",
    "    \n",
    "    def fit(self, X, y=None):\n",
    "        X = np.asarray(X, dtype=float)\n",
    "        self.lo_ = np.nanquantile(X, self.lower, axis=0)\n",
    "        self.hi_ = np.nanquantile(X, self.upper, axis=0)\n",
    "        return self\n",
    "    \n",
    "    def transform(self, X):\n",
    "        X = np.asarray(X, dtype=float)\n",
    "        return np.clip(X, self.lo_, self.hi_)"
   ]
  },
  {
   "cell_type": "code",
   "execution_count": 162,
   "id": "cd20390d",
   "metadata": {},
   "outputs": [
    {
     "name": "stdout",
     "output_type": "stream",
     "text": [
      "[INFO] baseline created\n",
      "[INFO] robust created\n",
      "[INFO] whitened created\n",
      "[INFO] one hot created\n"
     ]
    }
   ],
   "source": [
    "# 3 - Create pipeline variants\n",
    "\n",
    "numeric_baseline = Pipeline(steps=[\n",
    "    (\"scaler\", StandardScaler())\n",
    "])\n",
    "print(\"[INFO] baseline created\")\n",
    "\n",
    "numeric_robust = Pipeline(steps=[\n",
    "    (\"winsor\", Winsorizer(lower=0.01, upper=0.99)),\n",
    "    (\"scaler\", RobustScaler(with_centering=True, with_scaling=True))\n",
    "])\n",
    "print(\"[INFO] robust created\")\n",
    "\n",
    "numeric_whitened = Pipeline(steps=[\n",
    "    (\"scaler\", StandardScaler()),\n",
    "    (\"pca\", PCA(n_components=0.95, whiten=True, random_state=SEED))\n",
    "])\n",
    "print(\"[INFO] whitened created\")\n",
    "\n",
    "categorical = Pipeline(steps=[\n",
    "    (\"ohe\", OneHotEncoder(handle_unknown=\"ignore\", sparse_output=False))\n",
    "])\n",
    "print(\"[INFO] one hot created\")"
   ]
  },
  {
   "cell_type": "code",
   "execution_count": 163,
   "id": "c08454b1",
   "metadata": {},
   "outputs": [],
   "source": [
    "# 4 - create ColumnTransformer\n",
    "\n",
    "def make_preprocessor(version=\"baseline\"):\n",
    "    if version == \"baseline\":\n",
    "        num_pipe = numeric_baseline\n",
    "    elif version == \"robust\":\n",
    "        num_pipe = numeric_robust\n",
    "    elif version == \"whitened\":\n",
    "        num_pipe = numeric_whitened\n",
    "    else:\n",
    "        raise ValueError(\"version must be in {'baseline','robust','whitened'}\")\n",
    "    \n",
    "    pre = ColumnTransformer(\n",
    "        transformers=[\n",
    "            (\"num\", num_pipe, num_cols),\n",
    "            (\"cat\", categorical, cat_cols),\n",
    "        ],\n",
    "        remainder=\"drop\",\n",
    "        verbose_feature_names_out=True\n",
    "    )\n",
    "\n",
    "    return pre"
   ]
  },
  {
   "cell_type": "code",
   "execution_count": 164,
   "id": "e2c30193",
   "metadata": {},
   "outputs": [],
   "source": [
    "# 5 - Chose the variant here\n",
    "\n",
    "PIPELINE_VERSION = \"whitened\"\n",
    "preprocessor = make_preprocessor(PIPELINE_VERSION)"
   ]
  },
  {
   "cell_type": "code",
   "execution_count": 165,
   "id": "a33b77c0",
   "metadata": {},
   "outputs": [
    {
     "name": "stdout",
     "output_type": "stream",
     "text": [
      "[INFO] Fit + transform with pipeline: whitened\n",
      "[INFO] X_shape = (6497, 11), y_shape = (6497,), meta_shape = (6497, 3)\n",
      "[INFO] Number of features out = 11, like: ['num__pca0', 'num__pca1', 'num__pca2', 'num__pca3', 'num__pca4', 'num__pca5', 'num__pca6', 'num__pca7']\n"
     ]
    }
   ],
   "source": [
    "# 6 - Fit + transform, extract artifacts\n",
    "\n",
    "print(f\"[INFO] Fit + transform with pipeline: {PIPELINE_VERSION}\")\n",
    "X = preprocessor.fit_transform(wine_df)\n",
    "y = wine_df[\"quality\"].to_numpy()\n",
    "meta = wine_df[[\"wine_id\", \"wine_type\", \"quality\"]].copy()\n",
    "\n",
    "try:\n",
    "    feature_names = preprocessor.get_feature_names_out()\n",
    "except Exception:\n",
    "    feature_names = None\n",
    "    print(f\"Make sure you have sklearn >= 1.0 installed\")\n",
    "\n",
    "print(f\"[INFO] X_shape = {X.shape}, y_shape = {y.shape}, meta_shape = {meta.shape}\")\n",
    "if feature_names is not None:\n",
    "    print(f\"[INFO] Number of features out = {len(feature_names)}, like: {list(feature_names[:8])}\")"
   ]
  },
  {
   "cell_type": "code",
   "execution_count": 166,
   "id": "c7f53ea5",
   "metadata": {},
   "outputs": [
    {
     "name": "stdout",
     "output_type": "stream",
     "text": [
      "[INFO][NUMERICS after whitened] Mean mean-columns ≈ 0.000 | STD mean-columns ≈ 1.000\n",
      "[INFO][PCA] n_components = 9, Cumulated variance = 0.976\n",
      "[INFO][PCA] First 5 EVR: [0.275 0.227 0.141 0.088 0.065]\n"
     ]
    }
   ],
   "source": [
    "# 7 - Check statistics after transformation\n",
    "\n",
    "def _describe_array(arr, name):\n",
    "    arr = np.asarray(arr, dtype=float)\n",
    "    mu = np.nanmean(arr, axis=0).mean()\n",
    "    sd = np.nanstd(arr, axis=0).mean()\n",
    "    print(f\"[INFO][{name}] Mean mean-columns ≈ {mu:.3f} | STD mean-columns ≈ {sd:.3f}\")\n",
    "\n",
    "num_out = preprocessor.named_transformers_[\"num\"].transform(wine_df[num_cols])\n",
    "_describe_array(num_out, f\"NUMERICS after {PIPELINE_VERSION}\")\n",
    "\n",
    "if PIPELINE_VERSION == \"whitened\":\n",
    "    pca = preprocessor.named_transformers_[\"num\"].named_steps[\"pca\"]\n",
    "    evr = pca.explained_variance_ratio_\n",
    "    print(f\"[INFO][PCA] n_components = {pca.n_components_}, Cumulated variance = {evr.cumsum()[-1]:.3f}\")\n",
    "    print(f\"[INFO][PCA] First 5 EVR: {np.round(evr[:5], 3)}\")"
   ]
  },
  {
   "cell_type": "code",
   "execution_count": 167,
   "id": "e698676f",
   "metadata": {},
   "outputs": [
    {
     "data": {
      "image/png": "[encoded data removed]",
      "text/plain": [
       "<Figure size 1000x400 with 2 Axes>"
      ]
     },
     "metadata": {},
     "output_type": "display_data"
    }
   ],
   "source": [
    "# 8 - Plots for a couple of features before and after\n",
    "\n",
    "fig, axes = plt.subplots(1, 2, figsize=(10, 4))\n",
    "for ax, col in zip(axes, [\"residual sugar\", \"total sulfur dioxide\"]):\n",
    "    ax.hist(wine_df[col].values, bins=40, alpha=0.6)\n",
    "    ax.set_title(f\"PRE: {col}\")\n",
    "    ax.set_xlabel(col); ax.set_ylabel(\"count\")\n",
    "plt.tight_layout(); plt.show()\n",
    "\n",
    "if PIPELINE_VERSION in [\"baseline\", \"robust\"]:\n",
    "    X_num = num_out  # already transformed\n",
    "    fig, axes = plt.subplots(1, 2, figsize=(10, 4))\n",
    "    idx_rs = num_cols.index(\"residual sugar\")\n",
    "    idx_ts = num_cols.index(\"total sulfur dioxide\")\n",
    "    axes[0].hist(X_num[:, idx_rs], bins=40, alpha=0.6)\n",
    "    axes[0].set_title(f\"POST-{PIPELINE_VERSION}: residual sugar (scaled)\")\n",
    "    axes[1].hist(X_num[:, idx_ts], bins=40, alpha=0.6)\n",
    "    axes[1].set_title(f\"POST-{PIPELINE_VERSION}: total sulfur dioxide (scaled)\")\n",
    "    for ax in axes:\n",
    "        ax.set_xlabel(\"value\"); ax.set_ylabel(\"count\")\n",
    "    plt.tight_layout(); plt.show()"
   ]
  },
  {
   "cell_type": "code",
   "execution_count": 168,
   "id": "e302d17e",
   "metadata": {},
   "outputs": [
    {
     "name": "stdout",
     "output_type": "stream",
     "text": [
      "[INFO] Pipeline saved: artifacts/preprocessor_whitened.joblib\n"
     ]
    }
   ],
   "source": [
    "# 9 - Save artifacts\n",
    "\n",
    "os.makedirs(\"artifacts\", exist_ok=True)\n",
    "pp_path = f\"artifacts/preprocessor_{PIPELINE_VERSION}.joblib\"\n",
    "joblib.dump(preprocessor, pp_path)\n",
    "print(f\"[INFO] Pipeline saved: {pp_path}\")"
   ]
  },
  {
   "cell_type": "code",
   "execution_count": 169,
   "id": "c0fe949c",
   "metadata": {},
   "outputs": [
    {
     "name": "stdout",
     "output_type": "stream",
     "text": [
      "[INFO] X scaled = [[-1.84169485  0.26373807 -2.18192206 ... -0.12268524  1.\n",
      "   0.        ]\n",
      " [-1.74579255  0.70123306 -1.64066948 ...  0.73913472  1.\n",
      "   0.        ]\n",
      " [-1.76465912  0.55655079 -1.39670919 ...  0.46682732  1.\n",
      "   0.        ]\n",
      " ...\n",
      " [ 0.32808891 -0.45758155  0.07331403 ...  0.23072906  0.\n",
      "   1.        ]\n",
      " [ 0.05173091 -2.24514954  0.11317002 ...  0.44083335  0.\n",
      "   1.        ]\n",
      " [ 0.29445074 -1.83057535  0.59265581 ...  0.31298308  0.\n",
      "   1.        ]]\n"
     ]
    }
   ],
   "source": [
    "# Return\n",
    "X_scaled = X\n",
    "print(f\"[INFO] X scaled = {X_scaled}\")"
   ]
  },
  {
   "cell_type": "code",
   "execution_count": null,
   "id": "aef51790",
   "metadata": {},
   "outputs": [],
   "source": []
  }
 ],
 "metadata": {
  "kernelspec": {
   "display_name": ".venv",
   "language": "python",
   "name": "python3"
  },
  "language_info": {
   "codemirror_mode": {
    "name": "ipython",
    "version": 3
   },
   "file_extension": ".py",
   "mimetype": "text/x-python",
   "name": "python",
   "nbconvert_exporter": "python",
   "pygments_lexer": "ipython3",
   "version": "3.13.7"
  }
 },
 "nbformat": 4,
 "nbformat_minor": 5
}
